{
 "cells": [
  {
   "cell_type": "markdown",
   "id": "bbff8878-67b2-4092-81c9-751181838f96",
   "metadata": {},
   "source": [
    "# Algorithm Chains and Pipelines"
   ]
  },
  {
   "cell_type": "code",
   "execution_count": 1,
   "id": "b7156482-c16a-4dd6-aa03-a19d0afaf179",
   "metadata": {},
   "outputs": [],
   "source": [
    "from sklearn.svm import SVC\n",
    "from sklearn.datasets import load_breast_cancer\n",
    "from sklearn.model_selection import train_test_split\n",
    "from sklearn.preprocessing import MinMaxScaler"
   ]
  },
  {
   "cell_type": "code",
   "execution_count": 2,
   "id": "a611e427-22de-4a5a-b1fd-2a523b9e8b71",
   "metadata": {},
   "outputs": [],
   "source": [
    "cancer = load_breast_cancer()"
   ]
  },
  {
   "cell_type": "code",
   "execution_count": 3,
   "id": "7abb483c-7566-40c6-9576-313a5fe57bef",
   "metadata": {},
   "outputs": [],
   "source": [
    "Xtrain,Xtest,ytrain,ytest = train_test_split(cancer.data, cancer.target, random_state=0)"
   ]
  },
  {
   "cell_type": "code",
   "execution_count": 4,
   "id": "9ddc5937-73af-4eaa-9c77-3240c06fe048",
   "metadata": {},
   "outputs": [],
   "source": [
    "scaler = MinMaxScaler().fit(Xtrain)"
   ]
  },
  {
   "cell_type": "code",
   "execution_count": 5,
   "id": "67cb5942-145c-47d7-b939-dda8332c27f2",
   "metadata": {},
   "outputs": [],
   "source": [
    "Xtrain_scaler = scaler.transform(Xtrain)\n",
    "Xtest_scaler = scaler.transform(Xtest)"
   ]
  },
  {
   "cell_type": "code",
   "execution_count": 6,
   "id": "72529051-0b76-4a0d-b013-a88926cc2bb4",
   "metadata": {},
   "outputs": [
    {
     "name": "stdout",
     "output_type": "stream",
     "text": [
      "test score: 0.972\n"
     ]
    }
   ],
   "source": [
    "svc = SVC().fit(Xtrain_scaler, ytrain)\n",
    "print('test score: {:.3f}'.format(svc.score(Xtest_scaler, ytest)))"
   ]
  },
  {
   "cell_type": "markdown",
   "id": "254d6518-360a-4309-b013-f8d4030ff9f3",
   "metadata": {
    "tags": []
   },
   "source": [
    "### Parameter Selection with Preprocessing, below is problematic"
   ]
  },
  {
   "cell_type": "code",
   "execution_count": 7,
   "id": "1b7f5341-4aa2-4100-9914-55c4bd45f075",
   "metadata": {},
   "outputs": [],
   "source": [
    "from sklearn.model_selection import GridSearchCV"
   ]
  },
  {
   "cell_type": "code",
   "execution_count": 8,
   "id": "b1f2c206-8a74-4f69-a0eb-7fdd1c68a660",
   "metadata": {},
   "outputs": [],
   "source": [
    "params = {'C':[0.001, 0.01, 0.1, 1, 10, 100], 'gamma':[0.001, 0.01, 0.1, 1, 10, 100]}"
   ]
  },
  {
   "cell_type": "code",
   "execution_count": 9,
   "id": "bf94fa1b-3785-4d0c-bbed-0104ac67c758",
   "metadata": {},
   "outputs": [
    {
     "data": {
      "text/plain": [
       "GridSearchCV(cv=5, estimator=SVC(),\n",
       "             param_grid={'C': [0.001, 0.01, 0.1, 1, 10, 100],\n",
       "                         'gamma': [0.001, 0.01, 0.1, 1, 10, 100]})"
      ]
     },
     "execution_count": 9,
     "metadata": {},
     "output_type": "execute_result"
    }
   ],
   "source": [
    "grid = GridSearchCV(SVC(), params, cv=5)\n",
    "grid.fit(Xtrain_scaler, ytrain) # the scaler already learn the validation set in Xtrain dataset, this is problematic"
   ]
  },
  {
   "cell_type": "code",
   "execution_count": 10,
   "id": "ea955dc1-6c5a-48f8-bcfb-a1588ed329c0",
   "metadata": {},
   "outputs": [
    {
     "name": "stdout",
     "output_type": "stream",
     "text": [
      "best validation score: 0.981\n",
      "best test score: 0.972\n",
      "best estimators {'C': 1, 'gamma': 1}\n"
     ]
    }
   ],
   "source": [
    "print('best validation score: {:.3f}'.format(grid.best_score_))\n",
    "print('best test score: {:.3f}'.format(grid.score(Xtest_scaler, ytest)))\n",
    "print('best estimators', grid.best_params_)"
   ]
  },
  {
   "cell_type": "code",
   "execution_count": 11,
   "id": "53e1da4a-6d4e-429f-a9e8-dc3fec0eda84",
   "metadata": {},
   "outputs": [
    {
     "data": {
      "text/plain": [
       "{'C': 1,\n",
       " 'break_ties': False,\n",
       " 'cache_size': 200,\n",
       " 'class_weight': None,\n",
       " 'coef0': 0.0,\n",
       " 'decision_function_shape': 'ovr',\n",
       " 'degree': 3,\n",
       " 'gamma': 1,\n",
       " 'kernel': 'rbf',\n",
       " 'max_iter': -1,\n",
       " 'probability': False,\n",
       " 'random_state': None,\n",
       " 'shrinking': True,\n",
       " 'tol': 0.001,\n",
       " 'verbose': False}"
      ]
     },
     "execution_count": 11,
     "metadata": {},
     "output_type": "execute_result"
    }
   ],
   "source": [
    "grid.best_estimator_.get_params()"
   ]
  },
  {
   "cell_type": "code",
   "execution_count": 12,
   "id": "d0fc2995-764e-4188-8203-8263554be221",
   "metadata": {},
   "outputs": [],
   "source": [
    "import mglearn"
   ]
  },
  {
   "cell_type": "code",
   "execution_count": 13,
   "id": "348261fb-fc79-4157-9a03-733ddbe86d5b",
   "metadata": {},
   "outputs": [
    {
     "data": {
      "image/png": "[encoded data removed]",
      "text/plain": [
       "<Figure size 1080x720 with 2 Axes>"
      ]
     },
     "metadata": {},
     "output_type": "display_data"
    }
   ],
   "source": [
    "mglearn.plots.plot_improper_processing()"
   ]
  },
  {
   "cell_type": "markdown",
   "id": "bd1f5960-8837-44d4-8800-e1a15e7dc0e3",
   "metadata": {},
   "source": [
    "### Building Pipelines, this fixes the problem above"
   ]
  },
  {
   "cell_type": "code",
   "execution_count": 14,
   "id": "aeaee285-b869-4873-ab94-d18bf894246c",
   "metadata": {},
   "outputs": [],
   "source": [
    "from sklearn.pipeline import Pipeline"
   ]
  },
  {
   "cell_type": "code",
   "execution_count": 15,
   "id": "f3e1a441-a4cf-4914-89d5-1e68aafd22be",
   "metadata": {},
   "outputs": [],
   "source": [
    "pipe = Pipeline([('scaler', MinMaxScaler()), ('clf', SVC())])"
   ]
  },
  {
   "cell_type": "code",
   "execution_count": 16,
   "id": "d25bef82-e7fc-4118-847b-6e30866e7f59",
   "metadata": {},
   "outputs": [
    {
     "data": {
      "text/plain": [
       "Pipeline(steps=[('scaler', MinMaxScaler()), ('clf', SVC())])"
      ]
     },
     "execution_count": 16,
     "metadata": {},
     "output_type": "execute_result"
    }
   ],
   "source": [
    "pipe.fit(Xtrain, ytrain)"
   ]
  },
  {
   "cell_type": "code",
   "execution_count": 17,
   "id": "eee94066-a6e9-419d-8538-37691e892578",
   "metadata": {},
   "outputs": [
    {
     "data": {
      "text/plain": [
       "0.972027972027972"
      ]
     },
     "execution_count": 17,
     "metadata": {},
     "output_type": "execute_result"
    }
   ],
   "source": [
    "pipe.score(Xtest, ytest)"
   ]
  },
  {
   "cell_type": "markdown",
   "id": "56d858b2-4a10-4678-9938-851311091b39",
   "metadata": {},
   "source": [
    "### use GridSearch for best parameters"
   ]
  },
  {
   "cell_type": "code",
   "execution_count": 18,
   "id": "02c48c38-d99c-4cb0-99e1-8f6f360050c1",
   "metadata": {},
   "outputs": [],
   "source": [
    "params_= [{'clf__C':[0.001, 0.01, 0.1, 1, 10, 100], 'clf__gamma':[0.001, 0.01, 0.1, 1, 10, 100]}]"
   ]
  },
  {
   "cell_type": "code",
   "execution_count": 19,
   "id": "0c874457-07e6-4830-b086-889fa608e451",
   "metadata": {},
   "outputs": [
    {
     "name": "stdout",
     "output_type": "stream",
     "text": [
      "best validation score: 0.981\n",
      "best test score: 0.972\n",
      "best estimators {'clf__C': 1, 'clf__gamma': 1}\n"
     ]
    }
   ],
   "source": [
    "Grid = GridSearchCV(pipe, params_, cv=5)\n",
    "Grid.fit(Xtrain,ytrain)\n",
    "print('best validation score: {:.3f}'.format(Grid.best_score_))\n",
    "print('best test score: {:.3f}'.format(Grid.score(Xtest, ytest)))\n",
    "print('best estimators', Grid.best_params_)"
   ]
  },
  {
   "cell_type": "code",
   "execution_count": 20,
   "id": "ce5b4915-b92c-4ebc-9059-ef3b268605ca",
   "metadata": {},
   "outputs": [
    {
     "data": {
      "image/png": "[encoded data removed]",
      "text/plain": [
       "<Figure size 1080x576 with 2 Axes>"
      ]
     },
     "metadata": {},
     "output_type": "display_data"
    }
   ],
   "source": [
    "mglearn.plots.plot_proper_processing()"
   ]
  },
  {
   "cell_type": "markdown",
   "id": "60e24ffb-bf74-4858-8068-a9edf2368a77",
   "metadata": {},
   "source": [
    "### The General Pipeline Interface"
   ]
  },
  {
   "cell_type": "code",
   "execution_count": 21,
   "id": "5603aa61-02a2-41a7-b0e1-365284fd8c23",
   "metadata": {},
   "outputs": [
    {
     "name": "stdout",
     "output_type": "stream",
     "text": [
      "scaler\n",
      "MinMaxScaler()\n"
     ]
    }
   ],
   "source": [
    "for name, estimator in pipe.steps[:-1]:\n",
    "    print(name)\n",
    "    print(estimator)"
   ]
  },
  {
   "cell_type": "code",
   "execution_count": 22,
   "id": "99c5993f-971f-4725-a533-61573c9553e8",
   "metadata": {},
   "outputs": [
    {
     "data": {
      "text/plain": [
       "[('scaler', MinMaxScaler())]"
      ]
     },
     "execution_count": 22,
     "metadata": {},
     "output_type": "execute_result"
    }
   ],
   "source": [
    "pipe.steps[:-1]"
   ]
  },
  {
   "cell_type": "code",
   "execution_count": 23,
   "id": "96444fd8-104a-4c63-95d7-7c0e8c2bb52e",
   "metadata": {},
   "outputs": [
    {
     "data": {
      "text/plain": [
       "SVC()"
      ]
     },
     "execution_count": 23,
     "metadata": {},
     "output_type": "execute_result"
    }
   ],
   "source": [
    "pipe.steps[-1][1]"
   ]
  },
  {
   "cell_type": "code",
   "execution_count": null,
   "id": "326de97f-b2a2-418c-9804-6f438ab685e7",
   "metadata": {},
   "outputs": [],
   "source": []
  },
  {
   "cell_type": "code",
   "execution_count": 24,
   "id": "498f3f59-54ad-44be-8b7a-b71512427f8e",
   "metadata": {},
   "outputs": [],
   "source": [
    "def fit(self, X, y):\n",
    "    Xtransformed = X\n",
    "    for name, estimator in self.steps[:-1]:\n",
    "        Xtransformed  = estimator.fit_transform(Xtransformed, y)\n",
    "    self.steps[-1][1].fit(Xtransformed, y)\n",
    "    return self"
   ]
  },
  {
   "cell_type": "code",
   "execution_count": 25,
   "id": "e40151f5-69db-4735-9af3-eac6547c8055",
   "metadata": {},
   "outputs": [],
   "source": [
    "def predict(self, X):\n",
    "    Xtransformed = X\n",
    "    for name, estimator, in self.steps[:-1]:\n",
    "        Xtransformed = estimator.fit_transform(Xtransformed)\n",
    "    return self.steps[-1][1].predict(Xtransformed)"
   ]
  },
  {
   "cell_type": "markdown",
   "id": "05e2bbda-b3b0-49dd-aa1b-148488f0023b",
   "metadata": {},
   "source": [
    "# Convenient Pipeline Creation with make_pipeline"
   ]
  },
  {
   "cell_type": "code",
   "execution_count": 26,
   "id": "e00cd949-983a-4f5d-8dcb-879552a8ea00",
   "metadata": {},
   "outputs": [],
   "source": [
    "from sklearn.pipeline import make_pipeline\n",
    "from sklearn.preprocessing import StandardScaler\n",
    "from sklearn.decomposition import PCA"
   ]
  },
  {
   "cell_type": "code",
   "execution_count": 27,
   "id": "004815eb-b4f3-4390-b92a-fe5f377d9eba",
   "metadata": {},
   "outputs": [],
   "source": [
    "pipe_short = make_pipeline(MinMaxScaler(), SVC())\n",
    "pipe_long = Pipeline([('scaler',MinMaxScaler() ),('clf', SVC())])"
   ]
  },
  {
   "cell_type": "code",
   "execution_count": 28,
   "id": "bd9ac86e-64b0-4293-a8d9-4548af299eeb",
   "metadata": {},
   "outputs": [
    {
     "data": {
      "text/plain": [
       "[('minmaxscaler', MinMaxScaler()), ('svc', SVC())]"
      ]
     },
     "execution_count": 28,
     "metadata": {},
     "output_type": "execute_result"
    }
   ],
   "source": [
    "pipe_short.steps # but pipe_short has steps that were automatically named"
   ]
  },
  {
   "cell_type": "code",
   "execution_count": 29,
   "id": "a9feccdd-9b1a-414d-bb75-f14aacf11f79",
   "metadata": {},
   "outputs": [
    {
     "data": {
      "text/plain": [
       "[('scaler', MinMaxScaler()), ('clf', SVC())]"
      ]
     },
     "execution_count": 29,
     "metadata": {},
     "output_type": "execute_result"
    }
   ],
   "source": [
    "pipe_long.steps"
   ]
  },
  {
   "cell_type": "code",
   "execution_count": 30,
   "id": "0ff52028-f8fc-4a83-9b2f-7ac9eb24427d",
   "metadata": {},
   "outputs": [],
   "source": [
    "pipe_short1 = make_pipeline(StandardScaler(), PCA(), StandardScaler())"
   ]
  },
  {
   "cell_type": "code",
   "execution_count": 31,
   "id": "4cb9f9b3-59cb-4635-8436-07e53aa9a7c7",
   "metadata": {},
   "outputs": [
    {
     "data": {
      "text/plain": [
       "[('standardscaler-1', StandardScaler()),\n",
       " ('pca', PCA()),\n",
       " ('standardscaler-2', StandardScaler())]"
      ]
     },
     "execution_count": 31,
     "metadata": {},
     "output_type": "execute_result"
    }
   ],
   "source": [
    "pipe_short1.steps #pipe_short1.steps "
   ]
  },
  {
   "cell_type": "markdown",
   "id": "5ce476c2-fb28-46fd-8a59-ee5ae7419622",
   "metadata": {},
   "source": [
    "### Accessing Step Attributes"
   ]
  },
  {
   "cell_type": "code",
   "execution_count": 32,
   "id": "f0c25cfc-de91-4061-af33-2df880796d9b",
   "metadata": {},
   "outputs": [
    {
     "data": {
      "text/plain": [
       "Pipeline(steps=[('standardscaler-1', StandardScaler()), ('pca', PCA()),\n",
       "                ('standardscaler-2', StandardScaler())])"
      ]
     },
     "execution_count": 32,
     "metadata": {},
     "output_type": "execute_result"
    }
   ],
   "source": [
    "pipe_short1.fit(cancer.data)"
   ]
  },
  {
   "cell_type": "code",
   "execution_count": 33,
   "id": "f4dc9c45-6d13-40e4-b5b3-a3c84dee17bf",
   "metadata": {},
   "outputs": [
    {
     "data": {
      "text/plain": [
       "30"
      ]
     },
     "execution_count": 33,
     "metadata": {},
     "output_type": "execute_result"
    }
   ],
   "source": [
    "pipe_short1[1].n_components_"
   ]
  },
  {
   "cell_type": "code",
   "execution_count": null,
   "id": "c2d00527-bf02-47f0-9390-213039501c31",
   "metadata": {},
   "outputs": [],
   "source": []
  },
  {
   "cell_type": "code",
   "execution_count": 34,
   "id": "23ad9e80-965a-40af-9b8b-854fbb52e15a",
   "metadata": {},
   "outputs": [
    {
     "data": {
      "text/plain": [
       "{'standardscaler-1': StandardScaler(),\n",
       " 'pca': PCA(),\n",
       " 'standardscaler-2': StandardScaler()}"
      ]
     },
     "execution_count": 34,
     "metadata": {},
     "output_type": "execute_result"
    }
   ],
   "source": [
    "pipe_short1.named_steps # that returns a tuple"
   ]
  },
  {
   "cell_type": "code",
   "execution_count": 35,
   "id": "a3a74338-3ac9-457a-8bcd-12b38d9d75c6",
   "metadata": {},
   "outputs": [
    {
     "data": {
      "text/plain": [
       "30"
      ]
     },
     "execution_count": 35,
     "metadata": {},
     "output_type": "execute_result"
    }
   ],
   "source": [
    "pipe_short1.named_steps['pca'].n_components_"
   ]
  },
  {
   "cell_type": "code",
   "execution_count": null,
   "id": "39bb9827-86da-415f-86e4-5c3506f95be0",
   "metadata": {},
   "outputs": [],
   "source": []
  },
  {
   "cell_type": "code",
   "execution_count": 36,
   "id": "f17c81e7-40b8-4632-ae79-5c04cf5b6d70",
   "metadata": {},
   "outputs": [
    {
     "data": {
      "text/plain": [
       "[('standardscaler-1', StandardScaler()),\n",
       " ('pca', PCA()),\n",
       " ('standardscaler-2', StandardScaler())]"
      ]
     },
     "execution_count": 36,
     "metadata": {},
     "output_type": "execute_result"
    }
   ],
   "source": [
    "pipe_short1.steps # that returns a list"
   ]
  },
  {
   "cell_type": "code",
   "execution_count": 37,
   "id": "7f9c4a9e-5efc-4495-ad94-522cc56dc010",
   "metadata": {},
   "outputs": [
    {
     "data": {
      "text/plain": [
       "30"
      ]
     },
     "execution_count": 37,
     "metadata": {},
     "output_type": "execute_result"
    }
   ],
   "source": [
    "pipe_short1.steps[1][-1].n_components_"
   ]
  },
  {
   "cell_type": "markdown",
   "id": "397ec4d5-9f12-4d66-ae6b-11ed0de47fac",
   "metadata": {},
   "source": [
    "### Accessing Attributes in a Grid-Searched Pipeline"
   ]
  },
  {
   "cell_type": "code",
   "execution_count": 38,
   "id": "fef20b6d-f6a2-40a0-b939-2f2187cf9c80",
   "metadata": {},
   "outputs": [],
   "source": [
    "from sklearn.linear_model import LogisticRegression"
   ]
  },
  {
   "cell_type": "code",
   "execution_count": 39,
   "id": "939290d5-b504-4d11-a80f-b44625d311fd",
   "metadata": {},
   "outputs": [],
   "source": [
    "pip = make_pipeline(StandardScaler(), LogisticRegression())"
   ]
  },
  {
   "cell_type": "code",
   "execution_count": 40,
   "id": "9d39a332-1415-4dcc-9124-abae17ee5cca",
   "metadata": {},
   "outputs": [],
   "source": [
    "Xtrain, Xtest,ytrain, ytest = train_test_split(cancer.data, cancer.target, random_state=0)"
   ]
  },
  {
   "cell_type": "code",
   "execution_count": 41,
   "id": "e8804a2d-1a35-4fbd-abea-114457d02ef4",
   "metadata": {},
   "outputs": [],
   "source": [
    "param_grid = {'logisticregression__C': [0.01, 0.1, 1, 10, 100]}"
   ]
  },
  {
   "cell_type": "code",
   "execution_count": 42,
   "id": "d8f31d96-0591-4cbd-b691-dcf3bf0c9e5c",
   "metadata": {},
   "outputs": [
    {
     "name": "stderr",
     "output_type": "stream",
     "text": [
      "/Users/david/opt/anaconda3/lib/python3.9/site-packages/sklearn/linear_model/_logistic.py:763: ConvergenceWarning: lbfgs failed to converge (status=1):\n",
      "STOP: TOTAL NO. of ITERATIONS REACHED LIMIT.\n",
      "\n",
      "Increase the number of iterations (max_iter) or scale the data as shown in:\n",
      "    https://scikit-learn.org/stable/modules/preprocessing.html\n",
      "Please also refer to the documentation for alternative solver options:\n",
      "    https://scikit-learn.org/stable/modules/linear_model.html#logistic-regression\n",
      "  n_iter_i = _check_optimize_result(\n",
      "/Users/david/opt/anaconda3/lib/python3.9/site-packages/sklearn/linear_model/_logistic.py:763: ConvergenceWarning: lbfgs failed to converge (status=1):\n",
      "STOP: TOTAL NO. of ITERATIONS REACHED LIMIT.\n",
      "\n",
      "Increase the number of iterations (max_iter) or scale the data as shown in:\n",
      "    https://scikit-learn.org/stable/modules/preprocessing.html\n",
      "Please also refer to the documentation for alternative solver options:\n",
      "    https://scikit-learn.org/stable/modules/linear_model.html#logistic-regression\n",
      "  n_iter_i = _check_optimize_result(\n",
      "/Users/david/opt/anaconda3/lib/python3.9/site-packages/sklearn/linear_model/_logistic.py:763: ConvergenceWarning: lbfgs failed to converge (status=1):\n",
      "STOP: TOTAL NO. of ITERATIONS REACHED LIMIT.\n",
      "\n",
      "Increase the number of iterations (max_iter) or scale the data as shown in:\n",
      "    https://scikit-learn.org/stable/modules/preprocessing.html\n",
      "Please also refer to the documentation for alternative solver options:\n",
      "    https://scikit-learn.org/stable/modules/linear_model.html#logistic-regression\n",
      "  n_iter_i = _check_optimize_result(\n",
      "/Users/david/opt/anaconda3/lib/python3.9/site-packages/sklearn/linear_model/_logistic.py:763: ConvergenceWarning: lbfgs failed to converge (status=1):\n",
      "STOP: TOTAL NO. of ITERATIONS REACHED LIMIT.\n",
      "\n",
      "Increase the number of iterations (max_iter) or scale the data as shown in:\n",
      "    https://scikit-learn.org/stable/modules/preprocessing.html\n",
      "Please also refer to the documentation for alternative solver options:\n",
      "    https://scikit-learn.org/stable/modules/linear_model.html#logistic-regression\n",
      "  n_iter_i = _check_optimize_result(\n"
     ]
    },
    {
     "data": {
      "text/plain": [
       "GridSearchCV(cv=5,\n",
       "             estimator=Pipeline(steps=[('standardscaler', StandardScaler()),\n",
       "                                       ('logisticregression',\n",
       "                                        LogisticRegression())]),\n",
       "             param_grid={'logisticregression__C': [0.01, 0.1, 1, 10, 100]})"
      ]
     },
     "execution_count": 42,
     "metadata": {},
     "output_type": "execute_result"
    }
   ],
   "source": [
    "gd = GridSearchCV(pip, param_grid, cv=5)\n",
    "gd.fit(Xtrain, ytrain)"
   ]
  },
  {
   "cell_type": "code",
   "execution_count": 117,
   "id": "34586106-b528-4ed4-a0f4-b8926fb70dbc",
   "metadata": {},
   "outputs": [
    {
     "data": {
      "text/plain": [
       "Pipeline(steps=[('standardscaler', StandardScaler()),\n",
       "                ('logisticregression', LogisticRegression(C=1))])"
      ]
     },
     "execution_count": 117,
     "metadata": {},
     "output_type": "execute_result"
    }
   ],
   "source": [
    "gd.best_estimator_"
   ]
  },
  {
   "cell_type": "code",
   "execution_count": 115,
   "id": "7415b3ba-772d-4a65-b74d-65380f03acf9",
   "metadata": {},
   "outputs": [
    {
     "data": {
      "text/plain": [
       "{'C': 1,\n",
       " 'class_weight': None,\n",
       " 'dual': False,\n",
       " 'fit_intercept': True,\n",
       " 'intercept_scaling': 1,\n",
       " 'l1_ratio': None,\n",
       " 'max_iter': 100,\n",
       " 'multi_class': 'auto',\n",
       " 'n_jobs': None,\n",
       " 'penalty': 'l2',\n",
       " 'random_state': None,\n",
       " 'solver': 'lbfgs',\n",
       " 'tol': 0.0001,\n",
       " 'verbose': 0,\n",
       " 'warm_start': False}"
      ]
     },
     "execution_count": 115,
     "metadata": {},
     "output_type": "execute_result"
    }
   ],
   "source": [
    "gd.best_estimator_.named_steps['logisticregression'].get_params()"
   ]
  },
  {
   "cell_type": "code",
   "execution_count": 118,
   "id": "7c0c9c3e-943d-4fb0-a428-62361e34a4b5",
   "metadata": {},
   "outputs": [
    {
     "data": {
      "text/plain": [
       "array([[-0.29792942, -0.58056355, -0.3109406 , -0.377129  , -0.11984232,\n",
       "         0.42855478, -0.71131106, -0.85371164, -0.46688191,  0.11762548,\n",
       "        -1.38262136,  0.0899184 , -0.94778563, -0.94686238,  0.18575731,\n",
       "         0.99305313,  0.11090349, -0.3458275 ,  0.20290919,  0.80470317,\n",
       "        -0.91626377, -0.91726667, -0.8159834 , -0.86539197, -0.45539191,\n",
       "         0.10347391, -0.83009341, -0.98445173, -0.5920036 , -0.61086989]])"
      ]
     },
     "execution_count": 118,
     "metadata": {},
     "output_type": "execute_result"
    }
   ],
   "source": [
    "gd.best_estimator_.named_steps['logisticregression'].coef_"
   ]
  },
  {
   "cell_type": "markdown",
   "id": "910cc123-f067-4d63-9e38-39e11e631ef2",
   "metadata": {
    "tags": []
   },
   "source": [
    "### Grid-Searching Preprocessing Steps and Model Parameters"
   ]
  },
  {
   "cell_type": "code",
   "execution_count": 127,
   "id": "25bff536-1174-4bd3-8846-4d0267cf200c",
   "metadata": {},
   "outputs": [],
   "source": [
    "from sklearn.datasets import load_boston\n",
    "from sklearn.preprocessing import PolynomialFeatures\n",
    "from sklearn.linear_model import Ridge"
   ]
  },
  {
   "cell_type": "code",
   "execution_count": 120,
   "id": "58942d8f-8fcc-41e2-8809-16849346bcec",
   "metadata": {},
   "outputs": [],
   "source": [
    "boston = load_boston()"
   ]
  },
  {
   "cell_type": "code",
   "execution_count": 161,
   "id": "490ab8e0-744c-4396-94f7-610bdc01518f",
   "metadata": {},
   "outputs": [
    {
     "data": {
      "text/plain": [
       "GridSearchCV(cv=5,\n",
       "             estimator=Pipeline(steps=[('standardscaler', StandardScaler()),\n",
       "                                       ('polynomialfeatures',\n",
       "                                        PolynomialFeatures()),\n",
       "                                       ('ridge', Ridge())]),\n",
       "             param_grid={'polynomialfeatures__degree': [1, 2, 3],\n",
       "                         'ridge__alpha': [0.001, 0.01, 0.1, 1, 10, 100]})"
      ]
     },
     "execution_count": 161,
     "metadata": {},
     "output_type": "execute_result"
    }
   ],
   "source": [
    "Xtrain, Xtest, ytrain, ytest = train_test_split(boston.data, boston.target, random_state=0)\n",
    "pipe= make_pipeline(StandardScaler(), PolynomialFeatures(), Ridge())\n",
    "params = {'polynomialfeatures__degree': [1, 2, 3],'ridge__alpha': [0.001, 0.01, 0.1, 1, 10, 100]}\n",
    "Grid = GridSearchCV(pipe, params, cv=5)\n",
    "Grid.fit(Xtrain, ytrain)"
   ]
  },
  {
   "cell_type": "code",
   "execution_count": 135,
   "id": "98ab3c8d-7396-4684-8529-bfc5f6808d4c",
   "metadata": {},
   "outputs": [
    {
     "data": {
      "text/plain": [
       "[('standardscaler', StandardScaler()),\n",
       " ('polynomialfeatures', PolynomialFeatures()),\n",
       " ('ridge', Ridge(alpha=10))]"
      ]
     },
     "execution_count": 135,
     "metadata": {},
     "output_type": "execute_result"
    }
   ],
   "source": [
    "Grid.best_estimator_.steps"
   ]
  },
  {
   "cell_type": "code",
   "execution_count": 140,
   "id": "4646ac2d-96f8-4efb-b63e-ca4e15795a59",
   "metadata": {},
   "outputs": [
    {
     "data": {
      "text/plain": [
       "Ridge(alpha=10)"
      ]
     },
     "execution_count": 140,
     "metadata": {},
     "output_type": "execute_result"
    }
   ],
   "source": [
    "Grid.best_estimator_.named_steps['ridge']"
   ]
  },
  {
   "cell_type": "code",
   "execution_count": 142,
   "id": "32a491a7-007e-4bb9-a20c-a2fceeeeac48",
   "metadata": {},
   "outputs": [],
   "source": [
    "import pandas as pd"
   ]
  },
  {
   "cell_type": "code",
   "execution_count": 144,
   "id": "203ed589-8764-465e-a788-9abfb40e324b",
   "metadata": {},
   "outputs": [
    {
     "data": {
      "text/html": [
       "<div>\n",
       "<style scoped>\n",
       "    .dataframe tbody tr th:only-of-type {\n",
       "        vertical-align: middle;\n",
       "    }\n",
       "\n",
       "    .dataframe tbody tr th {\n",
       "        vertical-align: top;\n",
       "    }\n",
       "\n",
       "    .dataframe thead th {\n",
       "        text-align: right;\n",
       "    }\n",
       "</style>\n",
       "<table border=\"1\" class=\"dataframe\">\n",
       "  <thead>\n",
       "    <tr style=\"text-align: right;\">\n",
       "      <th></th>\n",
       "      <th>0</th>\n",
       "      <th>1</th>\n",
       "      <th>2</th>\n",
       "      <th>3</th>\n",
       "      <th>4</th>\n",
       "      <th>5</th>\n",
       "      <th>6</th>\n",
       "      <th>7</th>\n",
       "      <th>8</th>\n",
       "      <th>9</th>\n",
       "      <th>10</th>\n",
       "      <th>11</th>\n",
       "      <th>12</th>\n",
       "      <th>13</th>\n",
       "      <th>14</th>\n",
       "      <th>15</th>\n",
       "      <th>16</th>\n",
       "      <th>17</th>\n",
       "    </tr>\n",
       "  </thead>\n",
       "  <tbody>\n",
       "    <tr>\n",
       "      <th>mean_fit_time</th>\n",
       "      <td>0.005947</td>\n",
       "      <td>0.001682</td>\n",
       "      <td>0.001245</td>\n",
       "      <td>0.001224</td>\n",
       "      <td>0.00117</td>\n",
       "      <td>0.001077</td>\n",
       "      <td>0.003037</td>\n",
       "      <td>0.001838</td>\n",
       "      <td>0.001525</td>\n",
       "      <td>0.00148</td>\n",
       "      <td>0.001549</td>\n",
       "      <td>0.001589</td>\n",
       "      <td>0.006901</td>\n",
       "      <td>0.005311</td>\n",
       "      <td>0.004027</td>\n",
       "      <td>0.004319</td>\n",
       "      <td>0.00426</td>\n",
       "      <td>0.004039</td>\n",
       "    </tr>\n",
       "    <tr>\n",
       "      <th>std_fit_time</th>\n",
       "      <td>0.008481</td>\n",
       "      <td>0.000156</td>\n",
       "      <td>0.000139</td>\n",
       "      <td>0.000153</td>\n",
       "      <td>0.000085</td>\n",
       "      <td>0.000011</td>\n",
       "      <td>0.002345</td>\n",
       "      <td>0.000427</td>\n",
       "      <td>0.000083</td>\n",
       "      <td>0.000071</td>\n",
       "      <td>0.000122</td>\n",
       "      <td>0.000176</td>\n",
       "      <td>0.00353</td>\n",
       "      <td>0.001125</td>\n",
       "      <td>0.000265</td>\n",
       "      <td>0.000053</td>\n",
       "      <td>0.000181</td>\n",
       "      <td>0.000378</td>\n",
       "    </tr>\n",
       "    <tr>\n",
       "      <th>mean_score_time</th>\n",
       "      <td>0.00137</td>\n",
       "      <td>0.000711</td>\n",
       "      <td>0.00044</td>\n",
       "      <td>0.000419</td>\n",
       "      <td>0.000379</td>\n",
       "      <td>0.000396</td>\n",
       "      <td>0.000554</td>\n",
       "      <td>0.000508</td>\n",
       "      <td>0.00049</td>\n",
       "      <td>0.000513</td>\n",
       "      <td>0.000532</td>\n",
       "      <td>0.000497</td>\n",
       "      <td>0.001051</td>\n",
       "      <td>0.001</td>\n",
       "      <td>0.000893</td>\n",
       "      <td>0.000909</td>\n",
       "      <td>0.0009</td>\n",
       "      <td>0.000931</td>\n",
       "    </tr>\n",
       "    <tr>\n",
       "      <th>std_score_time</th>\n",
       "      <td>0.001258</td>\n",
       "      <td>0.000187</td>\n",
       "      <td>0.000062</td>\n",
       "      <td>0.000059</td>\n",
       "      <td>0.000003</td>\n",
       "      <td>0.000049</td>\n",
       "      <td>0.000064</td>\n",
       "      <td>0.000024</td>\n",
       "      <td>0.000016</td>\n",
       "      <td>0.000031</td>\n",
       "      <td>0.000063</td>\n",
       "      <td>0.000021</td>\n",
       "      <td>0.00007</td>\n",
       "      <td>0.000087</td>\n",
       "      <td>0.000088</td>\n",
       "      <td>0.000057</td>\n",
       "      <td>0.000087</td>\n",
       "      <td>0.000078</td>\n",
       "    </tr>\n",
       "    <tr>\n",
       "      <th>param_polynomialfeatures__degree</th>\n",
       "      <td>1</td>\n",
       "      <td>1</td>\n",
       "      <td>1</td>\n",
       "      <td>1</td>\n",
       "      <td>1</td>\n",
       "      <td>1</td>\n",
       "      <td>2</td>\n",
       "      <td>2</td>\n",
       "      <td>2</td>\n",
       "      <td>2</td>\n",
       "      <td>2</td>\n",
       "      <td>2</td>\n",
       "      <td>3</td>\n",
       "      <td>3</td>\n",
       "      <td>3</td>\n",
       "      <td>3</td>\n",
       "      <td>3</td>\n",
       "      <td>3</td>\n",
       "    </tr>\n",
       "    <tr>\n",
       "      <th>param_ridge__alpha</th>\n",
       "      <td>0.001</td>\n",
       "      <td>0.01</td>\n",
       "      <td>0.1</td>\n",
       "      <td>1</td>\n",
       "      <td>10</td>\n",
       "      <td>100</td>\n",
       "      <td>0.001</td>\n",
       "      <td>0.01</td>\n",
       "      <td>0.1</td>\n",
       "      <td>1</td>\n",
       "      <td>10</td>\n",
       "      <td>100</td>\n",
       "      <td>0.001</td>\n",
       "      <td>0.01</td>\n",
       "      <td>0.1</td>\n",
       "      <td>1</td>\n",
       "      <td>10</td>\n",
       "      <td>100</td>\n",
       "    </tr>\n",
       "    <tr>\n",
       "      <th>params</th>\n",
       "      <td>{'polynomialfeatures__degree': 1, 'ridge__alph...</td>\n",
       "      <td>{'polynomialfeatures__degree': 1, 'ridge__alph...</td>\n",
       "      <td>{'polynomialfeatures__degree': 1, 'ridge__alph...</td>\n",
       "      <td>{'polynomialfeatures__degree': 1, 'ridge__alph...</td>\n",
       "      <td>{'polynomialfeatures__degree': 1, 'ridge__alph...</td>\n",
       "      <td>{'polynomialfeatures__degree': 1, 'ridge__alph...</td>\n",
       "      <td>{'polynomialfeatures__degree': 2, 'ridge__alph...</td>\n",
       "      <td>{'polynomialfeatures__degree': 2, 'ridge__alph...</td>\n",
       "      <td>{'polynomialfeatures__degree': 2, 'ridge__alph...</td>\n",
       "      <td>{'polynomialfeatures__degree': 2, 'ridge__alph...</td>\n",
       "      <td>{'polynomialfeatures__degree': 2, 'ridge__alph...</td>\n",
       "      <td>{'polynomialfeatures__degree': 2, 'ridge__alph...</td>\n",
       "      <td>{'polynomialfeatures__degree': 3, 'ridge__alph...</td>\n",
       "      <td>{'polynomialfeatures__degree': 3, 'ridge__alph...</td>\n",
       "      <td>{'polynomialfeatures__degree': 3, 'ridge__alph...</td>\n",
       "      <td>{'polynomialfeatures__degree': 3, 'ridge__alph...</td>\n",
       "      <td>{'polynomialfeatures__degree': 3, 'ridge__alph...</td>\n",
       "      <td>{'polynomialfeatures__degree': 3, 'ridge__alph...</td>\n",
       "    </tr>\n",
       "    <tr>\n",
       "      <th>split0_test_score</th>\n",
       "      <td>0.762602</td>\n",
       "      <td>0.762617</td>\n",
       "      <td>0.76276</td>\n",
       "      <td>0.76414</td>\n",
       "      <td>0.773967</td>\n",
       "      <td>0.781747</td>\n",
       "      <td>0.813194</td>\n",
       "      <td>0.816558</td>\n",
       "      <td>0.817204</td>\n",
       "      <td>0.831909</td>\n",
       "      <td>0.866518</td>\n",
       "      <td>0.871595</td>\n",
       "      <td>-1.126277</td>\n",
       "      <td>-0.389726</td>\n",
       "      <td>0.383167</td>\n",
       "      <td>0.831291</td>\n",
       "      <td>0.914146</td>\n",
       "      <td>0.905149</td>\n",
       "    </tr>\n",
       "    <tr>\n",
       "      <th>split1_test_score</th>\n",
       "      <td>0.56956</td>\n",
       "      <td>0.569557</td>\n",
       "      <td>0.569525</td>\n",
       "      <td>0.569216</td>\n",
       "      <td>0.567556</td>\n",
       "      <td>0.593544</td>\n",
       "      <td>0.639721</td>\n",
       "      <td>0.635223</td>\n",
       "      <td>0.641411</td>\n",
       "      <td>0.631069</td>\n",
       "      <td>0.618056</td>\n",
       "      <td>0.623519</td>\n",
       "      <td>-21.17717</td>\n",
       "      <td>-7.33049</td>\n",
       "      <td>-3.108991</td>\n",
       "      <td>-1.268576</td>\n",
       "      <td>-0.153154</td>\n",
       "      <td>0.264908</td>\n",
       "    </tr>\n",
       "    <tr>\n",
       "      <th>split2_test_score</th>\n",
       "      <td>0.779352</td>\n",
       "      <td>0.779353</td>\n",
       "      <td>0.77936</td>\n",
       "      <td>0.77941</td>\n",
       "      <td>0.778461</td>\n",
       "      <td>0.744269</td>\n",
       "      <td>0.631639</td>\n",
       "      <td>0.628425</td>\n",
       "      <td>0.627082</td>\n",
       "      <td>0.731638</td>\n",
       "      <td>0.877198</td>\n",
       "      <td>0.840461</td>\n",
       "      <td>-2883.048048</td>\n",
       "      <td>-797.614091</td>\n",
       "      <td>-64.588928</td>\n",
       "      <td>-1.33239</td>\n",
       "      <td>0.77717</td>\n",
       "      <td>0.343448</td>\n",
       "    </tr>\n",
       "    <tr>\n",
       "      <th>split3_test_score</th>\n",
       "      <td>0.707744</td>\n",
       "      <td>0.707737</td>\n",
       "      <td>0.707666</td>\n",
       "      <td>0.706957</td>\n",
       "      <td>0.700054</td>\n",
       "      <td>0.65418</td>\n",
       "      <td>0.814685</td>\n",
       "      <td>0.816252</td>\n",
       "      <td>0.830967</td>\n",
       "      <td>0.867385</td>\n",
       "      <td>0.872335</td>\n",
       "      <td>0.83698</td>\n",
       "      <td>0.265587</td>\n",
       "      <td>0.596622</td>\n",
       "      <td>0.773371</td>\n",
       "      <td>0.814543</td>\n",
       "      <td>0.812079</td>\n",
       "      <td>0.824498</td>\n",
       "    </tr>\n",
       "    <tr>\n",
       "      <th>split4_test_score</th>\n",
       "      <td>0.79032</td>\n",
       "      <td>0.790333</td>\n",
       "      <td>0.790459</td>\n",
       "      <td>0.791605</td>\n",
       "      <td>0.796592</td>\n",
       "      <td>0.766017</td>\n",
       "      <td>0.901616</td>\n",
       "      <td>0.900785</td>\n",
       "      <td>0.916594</td>\n",
       "      <td>0.912835</td>\n",
       "      <td>0.909524</td>\n",
       "      <td>0.851609</td>\n",
       "      <td>-0.390104</td>\n",
       "      <td>0.243932</td>\n",
       "      <td>0.554952</td>\n",
       "      <td>0.796165</td>\n",
       "      <td>0.891461</td>\n",
       "      <td>0.932412</td>\n",
       "    </tr>\n",
       "    <tr>\n",
       "      <th>mean_test_score</th>\n",
       "      <td>0.721916</td>\n",
       "      <td>0.721919</td>\n",
       "      <td>0.721954</td>\n",
       "      <td>0.722266</td>\n",
       "      <td>0.723326</td>\n",
       "      <td>0.707952</td>\n",
       "      <td>0.760171</td>\n",
       "      <td>0.759448</td>\n",
       "      <td>0.766651</td>\n",
       "      <td>0.794967</td>\n",
       "      <td>0.828726</td>\n",
       "      <td>0.804833</td>\n",
       "      <td>-581.095202</td>\n",
       "      <td>-160.898751</td>\n",
       "      <td>-13.197286</td>\n",
       "      <td>-0.031793</td>\n",
       "      <td>0.648341</td>\n",
       "      <td>0.654083</td>\n",
       "    </tr>\n",
       "    <tr>\n",
       "      <th>std_test_score</th>\n",
       "      <td>0.081298</td>\n",
       "      <td>0.081303</td>\n",
       "      <td>0.081354</td>\n",
       "      <td>0.081836</td>\n",
       "      <td>0.084591</td>\n",
       "      <td>0.072273</td>\n",
       "      <td>0.106601</td>\n",
       "      <td>0.108686</td>\n",
       "      <td>0.113437</td>\n",
       "      <td>0.101366</td>\n",
       "      <td>0.106386</td>\n",
       "      <td>0.091458</td>\n",
       "      <td>1151.004591</td>\n",
       "      <td>318.371011</td>\n",
       "      <td>25.735604</td>\n",
       "      <td>1.036137</td>\n",
       "      <td>0.403871</td>\n",
       "      <td>0.288961</td>\n",
       "    </tr>\n",
       "    <tr>\n",
       "      <th>rank_test_score</th>\n",
       "      <td>11</td>\n",
       "      <td>10</td>\n",
       "      <td>9</td>\n",
       "      <td>8</td>\n",
       "      <td>7</td>\n",
       "      <td>12</td>\n",
       "      <td>5</td>\n",
       "      <td>6</td>\n",
       "      <td>4</td>\n",
       "      <td>3</td>\n",
       "      <td>1</td>\n",
       "      <td>2</td>\n",
       "      <td>18</td>\n",
       "      <td>17</td>\n",
       "      <td>16</td>\n",
       "      <td>15</td>\n",
       "      <td>14</td>\n",
       "      <td>13</td>\n",
       "    </tr>\n",
       "  </tbody>\n",
       "</table>\n",
       "</div>"
      ],
      "text/plain": [
       "                                                                                 0   \\\n",
       "mean_fit_time                                                              0.005947   \n",
       "std_fit_time                                                               0.008481   \n",
       "mean_score_time                                                             0.00137   \n",
       "std_score_time                                                             0.001258   \n",
       "param_polynomialfeatures__degree                                                  1   \n",
       "param_ridge__alpha                                                            0.001   \n",
       "params                            {'polynomialfeatures__degree': 1, 'ridge__alph...   \n",
       "split0_test_score                                                          0.762602   \n",
       "split1_test_score                                                           0.56956   \n",
       "split2_test_score                                                          0.779352   \n",
       "split3_test_score                                                          0.707744   \n",
       "split4_test_score                                                           0.79032   \n",
       "mean_test_score                                                            0.721916   \n",
       "std_test_score                                                             0.081298   \n",
       "rank_test_score                                                                  11   \n",
       "\n",
       "                                                                                 1   \\\n",
       "mean_fit_time                                                              0.001682   \n",
       "std_fit_time                                                               0.000156   \n",
       "mean_score_time                                                            0.000711   \n",
       "std_score_time                                                             0.000187   \n",
       "param_polynomialfeatures__degree                                                  1   \n",
       "param_ridge__alpha                                                             0.01   \n",
       "params                            {'polynomialfeatures__degree': 1, 'ridge__alph...   \n",
       "split0_test_score                                                          0.762617   \n",
       "split1_test_score                                                          0.569557   \n",
       "split2_test_score                                                          0.779353   \n",
       "split3_test_score                                                          0.707737   \n",
       "split4_test_score                                                          0.790333   \n",
       "mean_test_score                                                            0.721919   \n",
       "std_test_score                                                             0.081303   \n",
       "rank_test_score                                                                  10   \n",
       "\n",
       "                                                                                 2   \\\n",
       "mean_fit_time                                                              0.001245   \n",
       "std_fit_time                                                               0.000139   \n",
       "mean_score_time                                                             0.00044   \n",
       "std_score_time                                                             0.000062   \n",
       "param_polynomialfeatures__degree                                                  1   \n",
       "param_ridge__alpha                                                              0.1   \n",
       "params                            {'polynomialfeatures__degree': 1, 'ridge__alph...   \n",
       "split0_test_score                                                           0.76276   \n",
       "split1_test_score                                                          0.569525   \n",
       "split2_test_score                                                           0.77936   \n",
       "split3_test_score                                                          0.707666   \n",
       "split4_test_score                                                          0.790459   \n",
       "mean_test_score                                                            0.721954   \n",
       "std_test_score                                                             0.081354   \n",
       "rank_test_score                                                                   9   \n",
       "\n",
       "                                                                                 3   \\\n",
       "mean_fit_time                                                              0.001224   \n",
       "std_fit_time                                                               0.000153   \n",
       "mean_score_time                                                            0.000419   \n",
       "std_score_time                                                             0.000059   \n",
       "param_polynomialfeatures__degree                                                  1   \n",
       "param_ridge__alpha                                                                1   \n",
       "params                            {'polynomialfeatures__degree': 1, 'ridge__alph...   \n",
       "split0_test_score                                                           0.76414   \n",
       "split1_test_score                                                          0.569216   \n",
       "split2_test_score                                                           0.77941   \n",
       "split3_test_score                                                          0.706957   \n",
       "split4_test_score                                                          0.791605   \n",
       "mean_test_score                                                            0.722266   \n",
       "std_test_score                                                             0.081836   \n",
       "rank_test_score                                                                   8   \n",
       "\n",
       "                                                                                 4   \\\n",
       "mean_fit_time                                                               0.00117   \n",
       "std_fit_time                                                               0.000085   \n",
       "mean_score_time                                                            0.000379   \n",
       "std_score_time                                                             0.000003   \n",
       "param_polynomialfeatures__degree                                                  1   \n",
       "param_ridge__alpha                                                               10   \n",
       "params                            {'polynomialfeatures__degree': 1, 'ridge__alph...   \n",
       "split0_test_score                                                          0.773967   \n",
       "split1_test_score                                                          0.567556   \n",
       "split2_test_score                                                          0.778461   \n",
       "split3_test_score                                                          0.700054   \n",
       "split4_test_score                                                          0.796592   \n",
       "mean_test_score                                                            0.723326   \n",
       "std_test_score                                                             0.084591   \n",
       "rank_test_score                                                                   7   \n",
       "\n",
       "                                                                                 5   \\\n",
       "mean_fit_time                                                              0.001077   \n",
       "std_fit_time                                                               0.000011   \n",
       "mean_score_time                                                            0.000396   \n",
       "std_score_time                                                             0.000049   \n",
       "param_polynomialfeatures__degree                                                  1   \n",
       "param_ridge__alpha                                                              100   \n",
       "params                            {'polynomialfeatures__degree': 1, 'ridge__alph...   \n",
       "split0_test_score                                                          0.781747   \n",
       "split1_test_score                                                          0.593544   \n",
       "split2_test_score                                                          0.744269   \n",
       "split3_test_score                                                           0.65418   \n",
       "split4_test_score                                                          0.766017   \n",
       "mean_test_score                                                            0.707952   \n",
       "std_test_score                                                             0.072273   \n",
       "rank_test_score                                                                  12   \n",
       "\n",
       "                                                                                 6   \\\n",
       "mean_fit_time                                                              0.003037   \n",
       "std_fit_time                                                               0.002345   \n",
       "mean_score_time                                                            0.000554   \n",
       "std_score_time                                                             0.000064   \n",
       "param_polynomialfeatures__degree                                                  2   \n",
       "param_ridge__alpha                                                            0.001   \n",
       "params                            {'polynomialfeatures__degree': 2, 'ridge__alph...   \n",
       "split0_test_score                                                          0.813194   \n",
       "split1_test_score                                                          0.639721   \n",
       "split2_test_score                                                          0.631639   \n",
       "split3_test_score                                                          0.814685   \n",
       "split4_test_score                                                          0.901616   \n",
       "mean_test_score                                                            0.760171   \n",
       "std_test_score                                                             0.106601   \n",
       "rank_test_score                                                                   5   \n",
       "\n",
       "                                                                                 7   \\\n",
       "mean_fit_time                                                              0.001838   \n",
       "std_fit_time                                                               0.000427   \n",
       "mean_score_time                                                            0.000508   \n",
       "std_score_time                                                             0.000024   \n",
       "param_polynomialfeatures__degree                                                  2   \n",
       "param_ridge__alpha                                                             0.01   \n",
       "params                            {'polynomialfeatures__degree': 2, 'ridge__alph...   \n",
       "split0_test_score                                                          0.816558   \n",
       "split1_test_score                                                          0.635223   \n",
       "split2_test_score                                                          0.628425   \n",
       "split3_test_score                                                          0.816252   \n",
       "split4_test_score                                                          0.900785   \n",
       "mean_test_score                                                            0.759448   \n",
       "std_test_score                                                             0.108686   \n",
       "rank_test_score                                                                   6   \n",
       "\n",
       "                                                                                 8   \\\n",
       "mean_fit_time                                                              0.001525   \n",
       "std_fit_time                                                               0.000083   \n",
       "mean_score_time                                                             0.00049   \n",
       "std_score_time                                                             0.000016   \n",
       "param_polynomialfeatures__degree                                                  2   \n",
       "param_ridge__alpha                                                              0.1   \n",
       "params                            {'polynomialfeatures__degree': 2, 'ridge__alph...   \n",
       "split0_test_score                                                          0.817204   \n",
       "split1_test_score                                                          0.641411   \n",
       "split2_test_score                                                          0.627082   \n",
       "split3_test_score                                                          0.830967   \n",
       "split4_test_score                                                          0.916594   \n",
       "mean_test_score                                                            0.766651   \n",
       "std_test_score                                                             0.113437   \n",
       "rank_test_score                                                                   4   \n",
       "\n",
       "                                                                                 9   \\\n",
       "mean_fit_time                                                               0.00148   \n",
       "std_fit_time                                                               0.000071   \n",
       "mean_score_time                                                            0.000513   \n",
       "std_score_time                                                             0.000031   \n",
       "param_polynomialfeatures__degree                                                  2   \n",
       "param_ridge__alpha                                                                1   \n",
       "params                            {'polynomialfeatures__degree': 2, 'ridge__alph...   \n",
       "split0_test_score                                                          0.831909   \n",
       "split1_test_score                                                          0.631069   \n",
       "split2_test_score                                                          0.731638   \n",
       "split3_test_score                                                          0.867385   \n",
       "split4_test_score                                                          0.912835   \n",
       "mean_test_score                                                            0.794967   \n",
       "std_test_score                                                             0.101366   \n",
       "rank_test_score                                                                   3   \n",
       "\n",
       "                                                                                 10  \\\n",
       "mean_fit_time                                                              0.001549   \n",
       "std_fit_time                                                               0.000122   \n",
       "mean_score_time                                                            0.000532   \n",
       "std_score_time                                                             0.000063   \n",
       "param_polynomialfeatures__degree                                                  2   \n",
       "param_ridge__alpha                                                               10   \n",
       "params                            {'polynomialfeatures__degree': 2, 'ridge__alph...   \n",
       "split0_test_score                                                          0.866518   \n",
       "split1_test_score                                                          0.618056   \n",
       "split2_test_score                                                          0.877198   \n",
       "split3_test_score                                                          0.872335   \n",
       "split4_test_score                                                          0.909524   \n",
       "mean_test_score                                                            0.828726   \n",
       "std_test_score                                                             0.106386   \n",
       "rank_test_score                                                                   1   \n",
       "\n",
       "                                                                                 11  \\\n",
       "mean_fit_time                                                              0.001589   \n",
       "std_fit_time                                                               0.000176   \n",
       "mean_score_time                                                            0.000497   \n",
       "std_score_time                                                             0.000021   \n",
       "param_polynomialfeatures__degree                                                  2   \n",
       "param_ridge__alpha                                                              100   \n",
       "params                            {'polynomialfeatures__degree': 2, 'ridge__alph...   \n",
       "split0_test_score                                                          0.871595   \n",
       "split1_test_score                                                          0.623519   \n",
       "split2_test_score                                                          0.840461   \n",
       "split3_test_score                                                           0.83698   \n",
       "split4_test_score                                                          0.851609   \n",
       "mean_test_score                                                            0.804833   \n",
       "std_test_score                                                             0.091458   \n",
       "rank_test_score                                                                   2   \n",
       "\n",
       "                                                                                 12  \\\n",
       "mean_fit_time                                                              0.006901   \n",
       "std_fit_time                                                                0.00353   \n",
       "mean_score_time                                                            0.001051   \n",
       "std_score_time                                                              0.00007   \n",
       "param_polynomialfeatures__degree                                                  3   \n",
       "param_ridge__alpha                                                            0.001   \n",
       "params                            {'polynomialfeatures__degree': 3, 'ridge__alph...   \n",
       "split0_test_score                                                         -1.126277   \n",
       "split1_test_score                                                         -21.17717   \n",
       "split2_test_score                                                      -2883.048048   \n",
       "split3_test_score                                                          0.265587   \n",
       "split4_test_score                                                         -0.390104   \n",
       "mean_test_score                                                         -581.095202   \n",
       "std_test_score                                                          1151.004591   \n",
       "rank_test_score                                                                  18   \n",
       "\n",
       "                                                                                 13  \\\n",
       "mean_fit_time                                                              0.005311   \n",
       "std_fit_time                                                               0.001125   \n",
       "mean_score_time                                                               0.001   \n",
       "std_score_time                                                             0.000087   \n",
       "param_polynomialfeatures__degree                                                  3   \n",
       "param_ridge__alpha                                                             0.01   \n",
       "params                            {'polynomialfeatures__degree': 3, 'ridge__alph...   \n",
       "split0_test_score                                                         -0.389726   \n",
       "split1_test_score                                                          -7.33049   \n",
       "split2_test_score                                                       -797.614091   \n",
       "split3_test_score                                                          0.596622   \n",
       "split4_test_score                                                          0.243932   \n",
       "mean_test_score                                                         -160.898751   \n",
       "std_test_score                                                           318.371011   \n",
       "rank_test_score                                                                  17   \n",
       "\n",
       "                                                                                 14  \\\n",
       "mean_fit_time                                                              0.004027   \n",
       "std_fit_time                                                               0.000265   \n",
       "mean_score_time                                                            0.000893   \n",
       "std_score_time                                                             0.000088   \n",
       "param_polynomialfeatures__degree                                                  3   \n",
       "param_ridge__alpha                                                              0.1   \n",
       "params                            {'polynomialfeatures__degree': 3, 'ridge__alph...   \n",
       "split0_test_score                                                          0.383167   \n",
       "split1_test_score                                                         -3.108991   \n",
       "split2_test_score                                                        -64.588928   \n",
       "split3_test_score                                                          0.773371   \n",
       "split4_test_score                                                          0.554952   \n",
       "mean_test_score                                                          -13.197286   \n",
       "std_test_score                                                            25.735604   \n",
       "rank_test_score                                                                  16   \n",
       "\n",
       "                                                                                 15  \\\n",
       "mean_fit_time                                                              0.004319   \n",
       "std_fit_time                                                               0.000053   \n",
       "mean_score_time                                                            0.000909   \n",
       "std_score_time                                                             0.000057   \n",
       "param_polynomialfeatures__degree                                                  3   \n",
       "param_ridge__alpha                                                                1   \n",
       "params                            {'polynomialfeatures__degree': 3, 'ridge__alph...   \n",
       "split0_test_score                                                          0.831291   \n",
       "split1_test_score                                                         -1.268576   \n",
       "split2_test_score                                                          -1.33239   \n",
       "split3_test_score                                                          0.814543   \n",
       "split4_test_score                                                          0.796165   \n",
       "mean_test_score                                                           -0.031793   \n",
       "std_test_score                                                             1.036137   \n",
       "rank_test_score                                                                  15   \n",
       "\n",
       "                                                                                 16  \\\n",
       "mean_fit_time                                                               0.00426   \n",
       "std_fit_time                                                               0.000181   \n",
       "mean_score_time                                                              0.0009   \n",
       "std_score_time                                                             0.000087   \n",
       "param_polynomialfeatures__degree                                                  3   \n",
       "param_ridge__alpha                                                               10   \n",
       "params                            {'polynomialfeatures__degree': 3, 'ridge__alph...   \n",
       "split0_test_score                                                          0.914146   \n",
       "split1_test_score                                                         -0.153154   \n",
       "split2_test_score                                                           0.77717   \n",
       "split3_test_score                                                          0.812079   \n",
       "split4_test_score                                                          0.891461   \n",
       "mean_test_score                                                            0.648341   \n",
       "std_test_score                                                             0.403871   \n",
       "rank_test_score                                                                  14   \n",
       "\n",
       "                                                                                 17  \n",
       "mean_fit_time                                                              0.004039  \n",
       "std_fit_time                                                               0.000378  \n",
       "mean_score_time                                                            0.000931  \n",
       "std_score_time                                                             0.000078  \n",
       "param_polynomialfeatures__degree                                                  3  \n",
       "param_ridge__alpha                                                              100  \n",
       "params                            {'polynomialfeatures__degree': 3, 'ridge__alph...  \n",
       "split0_test_score                                                          0.905149  \n",
       "split1_test_score                                                          0.264908  \n",
       "split2_test_score                                                          0.343448  \n",
       "split3_test_score                                                          0.824498  \n",
       "split4_test_score                                                          0.932412  \n",
       "mean_test_score                                                            0.654083  \n",
       "std_test_score                                                             0.288961  \n",
       "rank_test_score                                                                  13  "
      ]
     },
     "execution_count": 144,
     "metadata": {},
     "output_type": "execute_result"
    }
   ],
   "source": [
    "pd.DataFrame(Grid.cv_results_).T"
   ]
  },
  {
   "cell_type": "code",
   "execution_count": 148,
   "id": "dd5a6e5a-80cb-4eca-87c6-69070b468d9b",
   "metadata": {},
   "outputs": [
    {
     "data": {
      "text/plain": [
       "0       0.721916\n",
       "1       0.721919\n",
       "2       0.721954\n",
       "3       0.722266\n",
       "4       0.723326\n",
       "5       0.707952\n",
       "6       0.760171\n",
       "7       0.759448\n",
       "8       0.766651\n",
       "9       0.794967\n",
       "10      0.828726\n",
       "11      0.804833\n",
       "12   -581.095202\n",
       "13   -160.898751\n",
       "14    -13.197286\n",
       "15     -0.031793\n",
       "16      0.648341\n",
       "17      0.654083\n",
       "Name: mean_test_score, dtype: object"
      ]
     },
     "execution_count": 148,
     "metadata": {},
     "output_type": "execute_result"
    }
   ],
   "source": [
    "pd.DataFrame(Grid.cv_results_).T.loc['mean_test_score']"
   ]
  },
  {
   "cell_type": "code",
   "execution_count": 149,
   "id": "40937746-3854-47fd-8433-7054583619c1",
   "metadata": {},
   "outputs": [
    {
     "data": {
      "text/plain": [
       "{'mean_fit_time': array([0.00594702, 0.00168219, 0.00124497, 0.00122385, 0.00116992,\n",
       "        0.00107698, 0.00303712, 0.00183797, 0.0015254 , 0.00148015,\n",
       "        0.00154872, 0.00158873, 0.00690084, 0.00531135, 0.00402675,\n",
       "        0.00431871, 0.00425982, 0.00403876]),\n",
       " 'std_fit_time': array([8.48149109e-03, 1.56189946e-04, 1.38704987e-04, 1.52505942e-04,\n",
       "        8.46308718e-05, 1.11190001e-05, 2.34535367e-03, 4.26710514e-04,\n",
       "        8.30081598e-05, 7.05556915e-05, 1.22346640e-04, 1.76400981e-04,\n",
       "        3.53049697e-03, 1.12460209e-03, 2.64572383e-04, 5.25374152e-05,\n",
       "        1.81096764e-04, 3.78431091e-04]),\n",
       " 'mean_score_time': array([0.00136995, 0.00071058, 0.0004396 , 0.00041909, 0.00037899,\n",
       "        0.00039601, 0.0005537 , 0.00050821, 0.00049024, 0.00051322,\n",
       "        0.00053153, 0.00049725, 0.00105119, 0.00100021, 0.00089283,\n",
       "        0.00090914, 0.00089998, 0.00093088]),\n",
       " 'std_score_time': array([1.25802074e-03, 1.87092368e-04, 6.20624032e-05, 5.94821434e-05,\n",
       "        3.27806039e-06, 4.86577216e-05, 6.40814146e-05, 2.35243638e-05,\n",
       "        1.56743852e-05, 3.08446199e-05, 6.25168976e-05, 2.12770917e-05,\n",
       "        7.00650508e-05, 8.73803800e-05, 8.82998135e-05, 5.74040250e-05,\n",
       "        8.71714407e-05, 7.79694517e-05]),\n",
       " 'param_polynomialfeatures__degree': masked_array(data=[1, 1, 1, 1, 1, 1, 2, 2, 2, 2, 2, 2, 3, 3, 3, 3, 3, 3],\n",
       "              mask=[False, False, False, False, False, False, False, False,\n",
       "                    False, False, False, False, False, False, False, False,\n",
       "                    False, False],\n",
       "        fill_value='?',\n",
       "             dtype=object),\n",
       " 'param_ridge__alpha': masked_array(data=[0.001, 0.01, 0.1, 1, 10, 100, 0.001, 0.01, 0.1, 1, 10,\n",
       "                    100, 0.001, 0.01, 0.1, 1, 10, 100],\n",
       "              mask=[False, False, False, False, False, False, False, False,\n",
       "                    False, False, False, False, False, False, False, False,\n",
       "                    False, False],\n",
       "        fill_value='?',\n",
       "             dtype=object),\n",
       " 'params': [{'polynomialfeatures__degree': 1, 'ridge__alpha': 0.001},\n",
       "  {'polynomialfeatures__degree': 1, 'ridge__alpha': 0.01},\n",
       "  {'polynomialfeatures__degree': 1, 'ridge__alpha': 0.1},\n",
       "  {'polynomialfeatures__degree': 1, 'ridge__alpha': 1},\n",
       "  {'polynomialfeatures__degree': 1, 'ridge__alpha': 10},\n",
       "  {'polynomialfeatures__degree': 1, 'ridge__alpha': 100},\n",
       "  {'polynomialfeatures__degree': 2, 'ridge__alpha': 0.001},\n",
       "  {'polynomialfeatures__degree': 2, 'ridge__alpha': 0.01},\n",
       "  {'polynomialfeatures__degree': 2, 'ridge__alpha': 0.1},\n",
       "  {'polynomialfeatures__degree': 2, 'ridge__alpha': 1},\n",
       "  {'polynomialfeatures__degree': 2, 'ridge__alpha': 10},\n",
       "  {'polynomialfeatures__degree': 2, 'ridge__alpha': 100},\n",
       "  {'polynomialfeatures__degree': 3, 'ridge__alpha': 0.001},\n",
       "  {'polynomialfeatures__degree': 3, 'ridge__alpha': 0.01},\n",
       "  {'polynomialfeatures__degree': 3, 'ridge__alpha': 0.1},\n",
       "  {'polynomialfeatures__degree': 3, 'ridge__alpha': 1},\n",
       "  {'polynomialfeatures__degree': 3, 'ridge__alpha': 10},\n",
       "  {'polynomialfeatures__degree': 3, 'ridge__alpha': 100}],\n",
       " 'split0_test_score': array([ 0.76260222,  0.76261665,  0.7627603 ,  0.76413967,  0.7739672 ,\n",
       "         0.78174746,  0.81319408,  0.81655751,  0.81720435,  0.83190861,\n",
       "         0.86651751,  0.87159488, -1.12627744, -0.38972601,  0.38316677,\n",
       "         0.83129101,  0.91414641,  0.90514853]),\n",
       " 'split1_test_score': array([  0.56955987,   0.56955667,   0.56952475,   0.56921637,\n",
       "          0.56755599,   0.59354407,   0.63972121,   0.63522276,\n",
       "          0.64141056,   0.63106872,   0.61805636,   0.62351896,\n",
       "        -21.17716997,  -7.33048958,  -3.10899122,  -1.26857591,\n",
       "         -0.15315375,   0.26490789]),\n",
       " 'split2_test_score': array([ 7.79352390e-01,  7.79353149e-01,  7.79360488e-01,  7.79410205e-01,\n",
       "         7.78460880e-01,  7.44269496e-01,  6.31638609e-01,  6.28425125e-01,\n",
       "         6.27081638e-01,  7.31637531e-01,  8.77197626e-01,  8.40460609e-01,\n",
       "        -2.88304805e+03, -7.97614091e+02, -6.45889277e+01, -1.33239003e+00,\n",
       "         7.77170416e-01,  3.43448446e-01]),\n",
       " 'split3_test_score': array([0.70774387, 0.70773681, 0.7076662 , 0.70695691, 0.70005382,\n",
       "        0.65417988, 0.81468453, 0.81625154, 0.83096714, 0.86738451,\n",
       "        0.87233538, 0.83698036, 0.26558676, 0.59662212, 0.77337118,\n",
       "        0.81454288, 0.81207918, 0.82449837]),\n",
       " 'split4_test_score': array([ 0.79032046,  0.79033313,  0.79045868,  0.7916049 ,  0.79659183,\n",
       "         0.76601728,  0.90161574,  0.9007851 ,  0.91659356,  0.91283471,\n",
       "         0.90952382,  0.85160852, -0.39010359,  0.24393179,  0.55495176,\n",
       "         0.79616531,  0.89146059,  0.9324119 ]),\n",
       " 'mean_test_score': array([ 7.21915761e-01,  7.21919281e-01,  7.21954085e-01,  7.22265610e-01,\n",
       "         7.23325945e-01,  7.07951636e-01,  7.60170834e-01,  7.59448408e-01,\n",
       "         7.66651449e-01,  7.94966818e-01,  8.28726141e-01,  8.04832665e-01,\n",
       "        -5.81095202e+02, -1.60898751e+02, -1.31972858e+01, -3.17933469e-02,\n",
       "         6.48340571e-01,  6.54083028e-01]),\n",
       " 'std_test_score': array([8.12978694e-02, 8.13029992e-02, 8.13540016e-02, 8.18355738e-02,\n",
       "        8.45909651e-02, 7.22729859e-02, 1.06600669e-01, 1.08685987e-01,\n",
       "        1.13436988e-01, 1.01365717e-01, 1.06385581e-01, 9.14578119e-02,\n",
       "        1.15100459e+03, 3.18371011e+02, 2.57356039e+01, 1.03613686e+00,\n",
       "        4.03871439e-01, 2.88961368e-01]),\n",
       " 'rank_test_score': array([11, 10,  9,  8,  7, 12,  5,  6,  4,  3,  1,  2, 18, 17, 16, 15, 14,\n",
       "        13], dtype=int32)}"
      ]
     },
     "execution_count": 149,
     "metadata": {},
     "output_type": "execute_result"
    }
   ],
   "source": [
    "Grid.cv_results_"
   ]
  },
  {
   "cell_type": "code",
   "execution_count": 150,
   "id": "66db59eb-c23c-4264-a620-c0b9c95e9516",
   "metadata": {},
   "outputs": [
    {
     "data": {
      "text/plain": [
       "array([ 7.21915761e-01,  7.21919281e-01,  7.21954085e-01,  7.22265610e-01,\n",
       "        7.23325945e-01,  7.07951636e-01,  7.60170834e-01,  7.59448408e-01,\n",
       "        7.66651449e-01,  7.94966818e-01,  8.28726141e-01,  8.04832665e-01,\n",
       "       -5.81095202e+02, -1.60898751e+02, -1.31972858e+01, -3.17933469e-02,\n",
       "        6.48340571e-01,  6.54083028e-01])"
      ]
     },
     "execution_count": 150,
     "metadata": {},
     "output_type": "execute_result"
    }
   ],
   "source": [
    "Grid.cv_results_['mean_test_score']."
   ]
  },
  {
   "cell_type": "code",
   "execution_count": 152,
   "id": "51abb2b5-c6f1-47de-ac29-8b8ad7d40f59",
   "metadata": {},
   "outputs": [],
   "source": [
    "from matplotlib import pyplot as plt"
   ]
  },
  {
   "cell_type": "code",
   "execution_count": 164,
   "id": "3f915bae-7c4a-4963-8f11-15df8bd75576",
   "metadata": {},
   "outputs": [
    {
     "data": {
      "image/png": "[encoded data removed]",
      "text/plain": [
       "<Figure size 576x288 with 2 Axes>"
      ]
     },
     "metadata": {
      "needs_background": "light"
     },
     "output_type": "display_data"
    }
   ],
   "source": [
    "plt.matshow(Grid.cv_results_['mean_test_score'].reshape(3,-1), cmap=\"viridis\", vmin=0)\n",
    "plt.xlabel(\"ridge__alpha\") \n",
    "plt.ylabel(\"polynomialfeatures__degree\")\n",
    "plt.xticks(range(len(params['ridge__alpha'])), params['ridge__alpha'])\n",
    "plt.yticks(range(len(params['polynomialfeatures__degree'])), params['polynomialfeatures__degree'])\n",
    "plt.colorbar();"
   ]
  },
  {
   "cell_type": "code",
   "execution_count": 165,
   "id": "a57fa23c-b081-4aae-80ee-cfe4366a1804",
   "metadata": {},
   "outputs": [
    {
     "data": {
      "text/plain": [
       "{'polynomialfeatures__degree': 2, 'ridge__alpha': 10}"
      ]
     },
     "execution_count": 165,
     "metadata": {},
     "output_type": "execute_result"
    }
   ],
   "source": [
    "Grid.best_params_"
   ]
  },
  {
   "cell_type": "code",
   "execution_count": 167,
   "id": "94aa1286-376a-43f1-996b-a0d29fda1a22",
   "metadata": {},
   "outputs": [
    {
     "data": {
      "text/plain": [
       "0.7683045464100127"
      ]
     },
     "execution_count": 167,
     "metadata": {},
     "output_type": "execute_result"
    }
   ],
   "source": [
    "Grid.score(Xtest, ytest)"
   ]
  },
  {
   "cell_type": "markdown",
   "id": "678d0986-c97a-471e-9537-fe19208c0941",
   "metadata": {},
   "source": [
    "### run a grid search without polynomial features for comparison:"
   ]
  },
  {
   "cell_type": "code",
   "execution_count": 169,
   "id": "b2c200a2-a511-49f3-b4e3-e8f5d84b577b",
   "metadata": {},
   "outputs": [
    {
     "data": {
      "text/plain": [
       "GridSearchCV(cv=5,\n",
       "             estimator=Pipeline(steps=[('standardscaler', StandardScaler()),\n",
       "                                       ('ridge', Ridge())]),\n",
       "             param_grid={'ridge__alpha': [0.001, 0.01, 0.1, 1, 10, 100]})"
      ]
     },
     "execution_count": 169,
     "metadata": {},
     "output_type": "execute_result"
    }
   ],
   "source": [
    "param_grid = {'ridge__alpha':[0.001, 0.01, 0.1, 1, 10, 100]}\n",
    "pip2 = make_pipeline(StandardScaler(), Ridge())\n",
    "Grid2 = GridSearchCV(pip2, param_grid, cv=5)\n",
    "Grid2.fit(Xtrain, ytrain)"
   ]
  },
  {
   "cell_type": "code",
   "execution_count": 171,
   "id": "245e89ba-f5ab-40cf-b675-3a21719fc35a",
   "metadata": {},
   "outputs": [
    {
     "data": {
      "text/plain": [
       "[('standardscaler', StandardScaler()), ('ridge', Ridge(alpha=10))]"
      ]
     },
     "execution_count": 171,
     "metadata": {},
     "output_type": "execute_result"
    }
   ],
   "source": [
    "Grid2.best_estimator_.steps"
   ]
  },
  {
   "cell_type": "code",
   "execution_count": 172,
   "id": "5a0665a8-19ba-44f3-93ae-2a0e71d78d8a",
   "metadata": {},
   "outputs": [
    {
     "data": {
      "text/plain": [
       "0.6272671927504456"
      ]
     },
     "execution_count": 172,
     "metadata": {},
     "output_type": "execute_result"
    }
   ],
   "source": [
    "Grid2.score(Xtest, ytest)"
   ]
  },
  {
   "cell_type": "markdown",
   "id": "9d53304e-af89-44c3-9650-494bd2d21d47",
   "metadata": {},
   "source": [
    "# Grid-Searching Which Model To Use"
   ]
  },
  {
   "cell_type": "code",
   "execution_count": 174,
   "id": "c9135f2f-4fac-4b65-aa65-fd9ffd943ff9",
   "metadata": {},
   "outputs": [],
   "source": [
    "pip3 = Pipeline([('pre',StandardScaler()), ('clf',SVC())])"
   ]
  },
  {
   "cell_type": "code",
   "execution_count": 176,
   "id": "6c742dfe-467e-4a84-8b3f-9c7b264e2a27",
   "metadata": {},
   "outputs": [],
   "source": [
    "from sklearn.ensemble import RandomForestClassifier"
   ]
  },
  {
   "cell_type": "code",
   "execution_count": 187,
   "id": "2b4a505a-9929-44e0-8a18-e2c161431adb",
   "metadata": {},
   "outputs": [],
   "source": [
    "params = [{'clf':[SVC()], 'pre':[StandardScaler()], 'clf__C':[0.001, 0.01, 0.1, 1, 10, 100], 'clf__gamma':[0.001, 0.01, 0.1, 1, 10, 100]}, {'clf':[RandomForestClassifier()], 'pre':[None], 'clf__max_features':[1,2,3]}]"
   ]
  },
  {
   "cell_type": "code",
   "execution_count": 188,
   "id": "a4c4fe3c-8b31-4b46-b056-09a9b8467263",
   "metadata": {},
   "outputs": [],
   "source": [
    "grid4 = GridSearchCV(pip3, params, cv=5)"
   ]
  },
  {
   "cell_type": "code",
   "execution_count": 189,
   "id": "c7409c91-7dff-4bff-82e7-7db3baa22290",
   "metadata": {},
   "outputs": [
    {
     "data": {
      "text/plain": [
       "GridSearchCV(cv=5,\n",
       "             estimator=Pipeline(steps=[('pre', StandardScaler()),\n",
       "                                       ('clf', SVC())]),\n",
       "             param_grid=[{'clf': [SVC(C=10, gamma=0.01)],\n",
       "                          'clf__C': [0.001, 0.01, 0.1, 1, 10, 100],\n",
       "                          'clf__gamma': [0.001, 0.01, 0.1, 1, 10, 100],\n",
       "                          'pre': [StandardScaler()]},\n",
       "                         {'clf': [RandomForestClassifier()],\n",
       "                          'clf__max_features': [1, 2, 3], 'pre': [None]}])"
      ]
     },
     "execution_count": 189,
     "metadata": {},
     "output_type": "execute_result"
    }
   ],
   "source": [
    "Xtrain, Xtest, ytrain, ytest = train_test_split(cancer.data, cancer.target, random_state=0)\n",
    "grid4.fit(Xtrain, ytrain)"
   ]
  },
  {
   "cell_type": "code",
   "execution_count": 196,
   "id": "c46b1673-804e-412d-a70d-1760b363fe73",
   "metadata": {},
   "outputs": [
    {
     "data": {
      "text/plain": [
       "{'cv': 5,\n",
       " 'error_score': nan,\n",
       " 'estimator__memory': None,\n",
       " 'estimator__steps': [('pre', StandardScaler()), ('clf', SVC())],\n",
       " 'estimator__verbose': False,\n",
       " 'estimator__pre': StandardScaler(),\n",
       " 'estimator__clf': SVC(),\n",
       " 'estimator__pre__copy': True,\n",
       " 'estimator__pre__with_mean': True,\n",
       " 'estimator__pre__with_std': True,\n",
       " 'estimator__clf__C': 1.0,\n",
       " 'estimator__clf__break_ties': False,\n",
       " 'estimator__clf__cache_size': 200,\n",
       " 'estimator__clf__class_weight': None,\n",
       " 'estimator__clf__coef0': 0.0,\n",
       " 'estimator__clf__decision_function_shape': 'ovr',\n",
       " 'estimator__clf__degree': 3,\n",
       " 'estimator__clf__gamma': 'scale',\n",
       " 'estimator__clf__kernel': 'rbf',\n",
       " 'estimator__clf__max_iter': -1,\n",
       " 'estimator__clf__probability': False,\n",
       " 'estimator__clf__random_state': None,\n",
       " 'estimator__clf__shrinking': True,\n",
       " 'estimator__clf__tol': 0.001,\n",
       " 'estimator__clf__verbose': False,\n",
       " 'estimator': Pipeline(steps=[('pre', StandardScaler()), ('clf', SVC())]),\n",
       " 'n_jobs': None,\n",
       " 'param_grid': [{'clf': [SVC(C=10, gamma=0.01)],\n",
       "   'pre': [StandardScaler()],\n",
       "   'clf__C': [0.001, 0.01, 0.1, 1, 10, 100],\n",
       "   'clf__gamma': [0.001, 0.01, 0.1, 1, 10, 100]},\n",
       "  {'clf': [RandomForestClassifier()],\n",
       "   'pre': [None],\n",
       "   'clf__max_features': [1, 2, 3]}],\n",
       " 'pre_dispatch': '2*n_jobs',\n",
       " 'refit': True,\n",
       " 'return_train_score': False,\n",
       " 'scoring': None,\n",
       " 'verbose': 0}"
      ]
     },
     "execution_count": 196,
     "metadata": {},
     "output_type": "execute_result"
    }
   ],
   "source": [
    "grid4.get_params()"
   ]
  },
  {
   "cell_type": "code",
   "execution_count": 192,
   "id": "a29620bb-71ec-4037-af50-a1d9e6c28f6d",
   "metadata": {},
   "outputs": [
    {
     "data": {
      "text/plain": [
       "{'memory': None,\n",
       " 'steps': [('pre', StandardScaler()), ('clf', SVC(C=10, gamma=0.01))],\n",
       " 'verbose': False,\n",
       " 'pre': StandardScaler(),\n",
       " 'clf': SVC(C=10, gamma=0.01),\n",
       " 'pre__copy': True,\n",
       " 'pre__with_mean': True,\n",
       " 'pre__with_std': True,\n",
       " 'clf__C': 10,\n",
       " 'clf__break_ties': False,\n",
       " 'clf__cache_size': 200,\n",
       " 'clf__class_weight': None,\n",
       " 'clf__coef0': 0.0,\n",
       " 'clf__decision_function_shape': 'ovr',\n",
       " 'clf__degree': 3,\n",
       " 'clf__gamma': 0.01,\n",
       " 'clf__kernel': 'rbf',\n",
       " 'clf__max_iter': -1,\n",
       " 'clf__probability': False,\n",
       " 'clf__random_state': None,\n",
       " 'clf__shrinking': True,\n",
       " 'clf__tol': 0.001,\n",
       " 'clf__verbose': False}"
      ]
     },
     "execution_count": 192,
     "metadata": {},
     "output_type": "execute_result"
    }
   ],
   "source": [
    "grid4.best_estimator_.get_params()"
   ]
  },
  {
   "cell_type": "code",
   "execution_count": 195,
   "id": "3b8ef6fc-65ee-40d0-b407-7dbb58918bf8",
   "metadata": {},
   "outputs": [
    {
     "data": {
      "text/plain": [
       "0.9858823529411765"
      ]
     },
     "execution_count": 195,
     "metadata": {},
     "output_type": "execute_result"
    }
   ],
   "source": [
    "grid4.best_score_ # inner validataion score"
   ]
  },
  {
   "cell_type": "code",
   "execution_count": 193,
   "id": "a597148d-415e-40c5-ae6d-96257a4d20a8",
   "metadata": {},
   "outputs": [
    {
     "data": {
      "text/plain": [
       "0.9790209790209791"
      ]
     },
     "execution_count": 193,
     "metadata": {},
     "output_type": "execute_result"
    }
   ],
   "source": [
    "grid4.score(Xtest, ytest)"
   ]
  },
  {
   "cell_type": "code",
   "execution_count": null,
   "id": "7ae7abd7-d080-4ac4-a1f4-9ea1ea034bbb",
   "metadata": {},
   "outputs": [],
   "source": []
  }
 ],
 "metadata": {
  "kernelspec": {
   "display_name": "Python 3 (ipykernel)",
   "language": "python",
   "name": "python3"
  },
  "language_info": {
   "codemirror_mode": {
    "name": "ipython",
    "version": 3
   },
   "file_extension": ".py",
   "mimetype": "text/x-python",
   "name": "python",
   "nbconvert_exporter": "python",
   "pygments_lexer": "ipython3",
   "version": "3.9.7"
  }
 },
 "nbformat": 4,
 "nbformat_minor": 5
}
